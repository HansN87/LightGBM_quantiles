{
 "cells": [
  {
   "cell_type": "code",
   "execution_count": 1,
   "metadata": {},
   "outputs": [],
   "source": [
    "import numpy as np\n",
    "import pylab as plt\n",
    "import lightgbm as lgb\n",
    "from sklearn.model_selection import train_test_split\n",
    "import pandas as pd\n",
    "\n",
    "fname = 'minimal_dataset.csv'\n",
    "arr = np.column_stack(np.loadtxt(fname))\n",
    "names = ['y']+['x'+str(i) for i in range(15)]+['weight']\n",
    "d = dict()\n",
    "for obj in zip(names, range(17)):\n",
    "    key, idx = obj\n",
    "    d[key]=arr[:, idx]\n",
    "\n",
    "df = pd.DataFrame(d)\n",
    "#df = pd.read_hdf('minimal_dataset.h5')\n",
    "\n",
    "nrounds = 20\n",
    "\n",
    "params = {\n",
    "    'boosting_type': 'gbdt',\n",
    "    'objective': 'mae', # 'quantile'\n",
    "    'metric': 'mae', # 'quatile' with 'alpha':0.5\n",
    "    'num_leaves': 20,\n",
    "    'bagging_fraction': 0.9,\n",
    "    'bagging_freq': 5,\n",
    "    'bagging_seed' : 0,\n",
    "    'feature_fraction': 0.9,\n",
    "    'learning_rate': 0.05,\n",
    "    'min_data_in_leaf': 10,\n",
    "    'verbose': 0,\n",
    "    'num_threads':4\n",
    "}\n",
    "\n",
    "df_train, df_test = train_test_split(df, test_size=0.5, shuffle=True, random_state=0)\n",
    "df_test = df_test.copy(deep=True)\n",
    "\n",
    "variables = ['x'+str(i) for i in range(15)]\n",
    "\n",
    "train = np.column_stack([df_train[var] for var in variables])\n",
    "test = np.column_stack([df_test[var] for var in variables])\n",
    "\n",
    "def evalerror_w(pred_y, obs_y, weights):\n",
    "    'implement weighted absolute error loss as cross check'\n",
    "    y = obs_y.get_label()\n",
    "    w = weights\n",
    "    pred = pred_y\n",
    "    diff = np.abs(y-pred)\n",
    "    return 'weighted mae', np.sum(w * diff)/np.sum(w), False"
   ]
  },
  {
   "cell_type": "code",
   "execution_count": 2,
   "metadata": {
    "scrolled": false
   },
   "outputs": [
    {
     "name": "stdout",
     "output_type": "stream",
     "text": [
      "training without importance weights ....\n",
      "1) notice how mae metric decreases during boosting\n",
      "2) notice how LightGBM mae metric and custom mae metric give consistent results\n",
      "[1]\ttraining's l1: 0.0512235\ttraining's weighted mae: 0.0512235\tvalid_1's l1: 0.0565765\tvalid_1's weighted mae: 0.0565765\n",
      "[2]\ttraining's l1: 0.0500288\ttraining's weighted mae: 0.0500288\tvalid_1's l1: 0.0557832\tvalid_1's weighted mae: 0.0557832\n",
      "[3]\ttraining's l1: 0.0488474\ttraining's weighted mae: 0.0488474\tvalid_1's l1: 0.0551485\tvalid_1's weighted mae: 0.0551485\n",
      "[4]\ttraining's l1: 0.0478093\ttraining's weighted mae: 0.0478093\tvalid_1's l1: 0.0544866\tvalid_1's weighted mae: 0.0544866\n",
      "[5]\ttraining's l1: 0.046814\ttraining's weighted mae: 0.046814\tvalid_1's l1: 0.053964\tvalid_1's weighted mae: 0.053964\n",
      "[6]\ttraining's l1: 0.045794\ttraining's weighted mae: 0.045794\tvalid_1's l1: 0.0534172\tvalid_1's weighted mae: 0.0534172\n",
      "[7]\ttraining's l1: 0.0449881\ttraining's weighted mae: 0.0449881\tvalid_1's l1: 0.052902\tvalid_1's weighted mae: 0.052902\n",
      "[8]\ttraining's l1: 0.0441827\ttraining's weighted mae: 0.0441827\tvalid_1's l1: 0.052408\tvalid_1's weighted mae: 0.052408\n",
      "[9]\ttraining's l1: 0.0433839\ttraining's weighted mae: 0.0433839\tvalid_1's l1: 0.0518788\tvalid_1's weighted mae: 0.0518788\n",
      "[10]\ttraining's l1: 0.0427316\ttraining's weighted mae: 0.0427316\tvalid_1's l1: 0.0514958\tvalid_1's weighted mae: 0.0514958\n",
      "[11]\ttraining's l1: 0.0419292\ttraining's weighted mae: 0.0419292\tvalid_1's l1: 0.0511684\tvalid_1's weighted mae: 0.0511684\n",
      "[12]\ttraining's l1: 0.0413184\ttraining's weighted mae: 0.0413184\tvalid_1's l1: 0.0507744\tvalid_1's weighted mae: 0.0507744\n",
      "[13]\ttraining's l1: 0.0406039\ttraining's weighted mae: 0.0406039\tvalid_1's l1: 0.0504636\tvalid_1's weighted mae: 0.0504636\n",
      "[14]\ttraining's l1: 0.0399054\ttraining's weighted mae: 0.0399054\tvalid_1's l1: 0.0501702\tvalid_1's weighted mae: 0.0501702\n",
      "[15]\ttraining's l1: 0.0393062\ttraining's weighted mae: 0.0393062\tvalid_1's l1: 0.0499128\tvalid_1's weighted mae: 0.0499128\n",
      "[16]\ttraining's l1: 0.0387959\ttraining's weighted mae: 0.0387959\tvalid_1's l1: 0.0496903\tvalid_1's weighted mae: 0.0496903\n",
      "[17]\ttraining's l1: 0.038329\ttraining's weighted mae: 0.038329\tvalid_1's l1: 0.0495038\tvalid_1's weighted mae: 0.0495038\n",
      "[18]\ttraining's l1: 0.037832\ttraining's weighted mae: 0.037832\tvalid_1's l1: 0.0493291\tvalid_1's weighted mae: 0.0493291\n",
      "[19]\ttraining's l1: 0.0373976\ttraining's weighted mae: 0.0373976\tvalid_1's l1: 0.0491783\tvalid_1's weighted mae: 0.0491783\n",
      "[20]\ttraining's l1: 0.0369777\ttraining's weighted mae: 0.0369777\tvalid_1's l1: 0.0489869\tvalid_1's weighted mae: 0.0489869\n"
     ]
    },
    {
     "data": {
      "image/png": "[encoded data removed]",
      "text/plain": [
       "<Figure size 432x288 with 1 Axes>"
      ]
     },
     "metadata": {
      "needs_background": "light"
     },
     "output_type": "display_data"
    }
   ],
   "source": [
    "# this works just fine (all importance weights are equal to one)\n",
    "\n",
    "weights_train = np.ones(len(df_train))\n",
    "weights_test = np.ones(len(df_test))\n",
    "def evalerror(pred_y, obs_y):\n",
    "    if len(pred_y)==len(weights_test):\n",
    "        weights = weights_test\n",
    "    else:\n",
    "        weights = weights_train\n",
    "    return evalerror_w(pred_y, obs_y, weights)\n",
    "\n",
    "lgb_train = lgb.Dataset(train, df_train['y'].values, feature_name=variables, weight=weights_train)\n",
    "lgb_eval = lgb.Dataset(test, df_test['y'].values, reference=lgb_train, feature_name=variables, weight=weights_test)\n",
    "\n",
    "print \"training without importance weights ....\"\n",
    "print \"1) notice how mae metric decreases during boosting\"\n",
    "print \"2) notice how LightGBM mae metric and custom mae metric give consistent results\"\n",
    "\n",
    "gbm = lgb.train(params,\n",
    "                lgb_train,\n",
    "                num_boost_round=nrounds,\n",
    "                valid_sets=[lgb_train, lgb_eval],  feval=evalerror)\n",
    "\n",
    "lgb.plot_importance(gbm)\n",
    "plt.show()\n"
   ]
  },
  {
   "cell_type": "code",
   "execution_count": 3,
   "metadata": {},
   "outputs": [
    {
     "name": "stdout",
     "output_type": "stream",
     "text": [
      "\n",
      "\n",
      "training with importance weights ....\n",
      "1) notice how mae metric increases during boosting\n",
      "2) notice how LightGBM mae metric is consistent with custom mae metric only on validation set\n",
      "[1]\ttraining's l1: 0.0451838\ttraining's weighted mae: 0.0831551\tvalid_1's l1: 0.0623803\tvalid_1's weighted mae: 0.0623803\n",
      "[2]\ttraining's l1: 0.0458955\ttraining's weighted mae: 0.083915\tvalid_1's l1: 0.0632059\tvalid_1's weighted mae: 0.0632059\n",
      "[3]\ttraining's l1: 0.047992\ttraining's weighted mae: 0.0842088\tvalid_1's l1: 0.0646468\tvalid_1's weighted mae: 0.0646468\n",
      "[4]\ttraining's l1: 8091.43\ttraining's weighted mae: 4771.37\tvalid_1's l1: 273.114\tvalid_1's weighted mae: 273.114\n",
      "[5]\ttraining's l1: 8091.43\ttraining's weighted mae: 4771.37\tvalid_1's l1: 273.115\tvalid_1's weighted mae: 273.115\n",
      "[6]\ttraining's l1: 8091.43\ttraining's weighted mae: 4771.37\tvalid_1's l1: 273.117\tvalid_1's weighted mae: 273.117\n",
      "[7]\ttraining's l1: 8086.97\ttraining's weighted mae: 4810.95\tvalid_1's l1: 314.361\tvalid_1's weighted mae: 314.361\n",
      "[8]\ttraining's l1: 8134.42\ttraining's weighted mae: 4814.36\tvalid_1's l1: 344.31\tvalid_1's weighted mae: 344.31\n",
      "[9]\ttraining's l1: 8171.39\ttraining's weighted mae: 4873.49\tvalid_1's l1: 349.856\tvalid_1's weighted mae: 349.856\n",
      "[10]\ttraining's l1: 8243.21\ttraining's weighted mae: 5015.77\tvalid_1's l1: 378.303\tvalid_1's weighted mae: 378.303\n",
      "[11]\ttraining's l1: 8281.16\ttraining's weighted mae: 5106.48\tvalid_1's l1: 398.122\tvalid_1's weighted mae: 398.122\n",
      "[12]\ttraining's l1: 8350.84\ttraining's weighted mae: 5183.15\tvalid_1's l1: 415.107\tvalid_1's weighted mae: 415.107\n",
      "[13]\ttraining's l1: 8351\ttraining's weighted mae: 5183.22\tvalid_1's l1: 415.306\tvalid_1's weighted mae: 415.306\n",
      "[14]\ttraining's l1: 8351.02\ttraining's weighted mae: 5183.23\tvalid_1's l1: 415.323\tvalid_1's weighted mae: 415.323\n",
      "[15]\ttraining's l1: 8351.05\ttraining's weighted mae: 5183.26\tvalid_1's l1: 415.352\tvalid_1's weighted mae: 415.352\n",
      "[16]\ttraining's l1: 8351.15\ttraining's weighted mae: 5183.39\tvalid_1's l1: 415.416\tvalid_1's weighted mae: 415.416\n",
      "[17]\ttraining's l1: 8351.9\ttraining's weighted mae: 5218.25\tvalid_1's l1: 417.142\tvalid_1's weighted mae: 417.142\n",
      "[18]\ttraining's l1: 8746.83\ttraining's weighted mae: 6697.8\tvalid_1's l1: 514.284\tvalid_1's weighted mae: 514.284\n",
      "[19]\ttraining's l1: 8747.03\ttraining's weighted mae: 6697.8\tvalid_1's l1: 514.776\tvalid_1's weighted mae: 514.776\n",
      "[20]\ttraining's l1: 8756.08\ttraining's weighted mae: 6706.12\tvalid_1's l1: 517.508\tvalid_1's weighted mae: 517.508\n"
     ]
    },
    {
     "data": {
      "image/png": "[encoded data removed]",
      "text/plain": [
       "<Figure size 432x288 with 1 Axes>"
      ]
     },
     "metadata": {
      "needs_background": "light"
     },
     "output_type": "display_data"
    }
   ],
   "source": [
    "# this produces pathological score (realistic dispersion among importance weights)\n",
    "\n",
    "weights_train = df_train['weight']\n",
    "weights_test = df_test['weight']\n",
    "def evalerror(pred_y, obs_y):\n",
    "    if len(pred_y)==len(weights_test):\n",
    "        weights = weights_test\n",
    "    else:\n",
    "        weights = weights_train\n",
    "    return evalerror_w(pred_y, obs_y, weights)\n",
    "\n",
    "lgb_train = lgb.Dataset(train, df_train['y'].values, feature_name=variables, weight=weights_train)\n",
    "lgb_eval = lgb.Dataset(test, df_test['y'].values, reference=lgb_train, feature_name=variables, weight=weights_test)\n",
    "\n",
    "print \"\"\n",
    "print \"\"\n",
    "print \"training with importance weights ....\"\n",
    "print \"1) notice how mae metric increases during boosting\"\n",
    "print \"2) notice how LightGBM mae metric is consistent with custom mae metric only on validation set\"\n",
    "gbm = lgb.train(params,\n",
    "                lgb_train,\n",
    "                num_boost_round=nrounds,\n",
    "                valid_sets=[lgb_train, lgb_eval], feval=evalerror)\n",
    "\n",
    "lgb.plot_importance(gbm)\n",
    "plt.show()"
   ]
  },
  {
   "cell_type": "code",
   "execution_count": null,
   "metadata": {},
   "outputs": [],
   "source": []
  }
 ],
 "metadata": {
  "kernelspec": {
   "display_name": "Python 2",
   "language": "python",
   "name": "python2"
  },
  "language_info": {
   "codemirror_mode": {
    "name": "ipython",
    "version": 2
   },
   "file_extension": ".py",
   "mimetype": "text/x-python",
   "name": "python",
   "nbconvert_exporter": "python",
   "pygments_lexer": "ipython2",
   "version": "2.7.15+"
  }
 },
 "nbformat": 4,
 "nbformat_minor": 2
}
